{
  "nbformat": 4,
  "nbformat_minor": 0,
  "metadata": {
    "colab": {
      "provenance": [],
      "authorship_tag": "ABX9TyOx8tlWARDZ0w32tOFJuvcW",
      "include_colab_link": true
    },
    "kernelspec": {
      "name": "python3",
      "display_name": "Python 3"
    },
    "language_info": {
      "name": "python"
    }
  },
  "cells": [
    {
      "cell_type": "markdown",
      "metadata": {
        "id": "view-in-github",
        "colab_type": "text"
      },
      "source": [
        "<a href=\"https://colab.research.google.com/github/bulentsoykan/simpy-tutorials/blob/main/HospitalExample_simple.ipynb\" target=\"_parent\"><img src=\"https://colab.research.google.com/assets/colab-badge.svg\" alt=\"Open In Colab\"/></a>"
      ]
    },
    {
      "cell_type": "markdown",
      "source": [
        "# SimPy tutorial"
      ],
      "metadata": {
        "id": "tlmZimw4SEfw"
      }
    },
    {
      "cell_type": "code",
      "source": [
        "!pip install  simpy -q"
      ],
      "metadata": {
        "id": "QSZRcDFIR5Rx"
      },
      "execution_count": 3,
      "outputs": []
    },
    {
      "cell_type": "code",
      "execution_count": 20,
      "metadata": {
        "id": "_O4q_52zRtmr"
      },
      "outputs": [],
      "source": [
        "import simpy\n",
        "import random"
      ]
    },
    {
      "cell_type": "markdown",
      "source": [
        "Arrivals generator function"
      ],
      "metadata": {
        "id": "i9q77cHkSAnY"
      }
    },
    {
      "cell_type": "code",
      "source": [
        "def patient_generator(env, wl, mean_consult, nurse):\n",
        "  p_id = 0\n",
        "\n",
        "  while True:\n",
        "    wp = activity_generator(env, mean_consult, nurse, p_id)\n",
        "    env.process(wp)\n",
        "    t = random.expovariate(1.0/wl)\n",
        "    yield env.timeout(t)\n",
        "    p_id += 1"
      ],
      "metadata": {
        "id": "B1AQa8uXR2Nq"
      },
      "execution_count": 21,
      "outputs": []
    },
    {
      "cell_type": "markdown",
      "source": [
        "Activity generator function"
      ],
      "metadata": {
        "id": "CkvXZ0eIS37g"
      }
    },
    {
      "cell_type": "code",
      "source": [
        "def activity_generator(env, mean_consult, nurse, p_id):\n",
        "  time_entered_queue_for_nurse = env.now\n",
        "  print(f'Patient {p_id} joined queue @ {time_entered_queue_for_nurse:.1f}')\n",
        "\n",
        "  with nurse.request() as req:\n",
        "    yield req\n",
        "\n",
        "    time_left_queue_for_nurse = env.now\n",
        "    print(f'Patient {p_id} left queue @ {time_entered_queue_for_nurse:.1f}')\n",
        "\n",
        "    sample_consultation_time = random.expovariate(1.0 / mean_consult)\n",
        "    yield env.timeout(sample_consultation_time)"
      ],
      "metadata": {
        "id": "zl0LB6feS1Gh"
      },
      "execution_count": 22,
      "outputs": []
    },
    {
      "cell_type": "code",
      "source": [
        "env = simpy.Environment()"
      ],
      "metadata": {
        "id": "Hbc2zLn0Yt0Y"
      },
      "execution_count": 23,
      "outputs": []
    },
    {
      "cell_type": "code",
      "source": [
        "nurse = simpy.Resource(env, capacity=1)\n",
        "wl = 5\n",
        "mean_consult = 6"
      ],
      "metadata": {
        "id": "ExAD0zPJZE2Y"
      },
      "execution_count": 24,
      "outputs": []
    },
    {
      "cell_type": "code",
      "source": [
        "env.process(patient_generator(env, wl, mean_consult, nurse))"
      ],
      "metadata": {
        "colab": {
          "base_uri": "https://localhost:8080/"
        },
        "id": "A5aYdseUZUaU",
        "outputId": "751438a1-4039-42d6-c1f5-c951f46be167"
      },
      "execution_count": 25,
      "outputs": [
        {
          "output_type": "execute_result",
          "data": {
            "text/plain": [
              "<Process(patient_generator) object at 0x795fed8768c0>"
            ]
          },
          "metadata": {},
          "execution_count": 25
        }
      ]
    },
    {
      "cell_type": "code",
      "source": [
        "env.run(until=120)"
      ],
      "metadata": {
        "colab": {
          "base_uri": "https://localhost:8080/"
        },
        "id": "x3pFA_AeZau4",
        "outputId": "ee6bdb0e-adc3-4729-e455-0b6e453096fd"
      },
      "execution_count": 26,
      "outputs": [
        {
          "output_type": "stream",
          "name": "stdout",
          "text": [
            "Patient 0 joined queue @ 0.0\n",
            "Patient 0 left queue @ 0.0\n",
            "Patient 1 joined queue @ 1.3\n",
            "Patient 2 joined queue @ 4.0\n",
            "Patient 3 joined queue @ 4.5\n",
            "Patient 1 left queue @ 1.3\n",
            "Patient 4 joined queue @ 11.4\n",
            "Patient 5 joined queue @ 11.6\n",
            "Patient 2 left queue @ 4.0\n",
            "Patient 6 joined queue @ 14.0\n",
            "Patient 3 left queue @ 4.5\n",
            "Patient 7 joined queue @ 22.5\n",
            "Patient 4 left queue @ 11.4\n",
            "Patient 8 joined queue @ 32.0\n",
            "Patient 5 left queue @ 11.6\n",
            "Patient 9 joined queue @ 34.9\n",
            "Patient 6 left queue @ 14.0\n",
            "Patient 10 joined queue @ 40.1\n",
            "Patient 7 left queue @ 22.5\n",
            "Patient 8 left queue @ 32.0\n",
            "Patient 9 left queue @ 34.9\n",
            "Patient 10 left queue @ 40.1\n",
            "Patient 11 joined queue @ 47.1\n",
            "Patient 11 left queue @ 47.1\n",
            "Patient 12 joined queue @ 50.7\n",
            "Patient 13 joined queue @ 59.1\n",
            "Patient 14 joined queue @ 61.7\n",
            "Patient 15 joined queue @ 61.9\n",
            "Patient 16 joined queue @ 62.0\n",
            "Patient 17 joined queue @ 67.9\n",
            "Patient 18 joined queue @ 69.7\n",
            "Patient 19 joined queue @ 72.2\n",
            "Patient 20 joined queue @ 72.9\n",
            "Patient 21 joined queue @ 82.9\n",
            "Patient 12 left queue @ 50.7\n",
            "Patient 22 joined queue @ 84.0\n",
            "Patient 13 left queue @ 59.1\n",
            "Patient 23 joined queue @ 89.5\n",
            "Patient 14 left queue @ 61.7\n",
            "Patient 15 left queue @ 61.9\n",
            "Patient 16 left queue @ 62.0\n",
            "Patient 24 joined queue @ 99.5\n",
            "Patient 25 joined queue @ 100.2\n",
            "Patient 17 left queue @ 67.9\n",
            "Patient 18 left queue @ 69.7\n",
            "Patient 19 left queue @ 72.2\n",
            "Patient 26 joined queue @ 102.2\n",
            "Patient 27 joined queue @ 102.6\n",
            "Patient 28 joined queue @ 103.3\n",
            "Patient 29 joined queue @ 105.6\n",
            "Patient 20 left queue @ 72.9\n",
            "Patient 21 left queue @ 82.9\n",
            "Patient 30 joined queue @ 118.2\n",
            "Patient 31 joined queue @ 118.6\n",
            "Patient 22 left queue @ 84.0\n"
          ]
        }
      ]
    }
  ]
}